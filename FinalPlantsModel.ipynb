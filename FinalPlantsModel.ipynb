{
  "nbformat": 4,
  "nbformat_minor": 0,
  "metadata": {
    "colab": {
      "name": "FinalPlantsModel.ipynb",
      "provenance": [],
      "authorship_tag": "ABX9TyMGETIKasQ49GxSzxMLuXRw",
      "include_colab_link": true
    },
    "kernelspec": {
      "name": "python3",
      "display_name": "Python 3"
    },
    "accelerator": "GPU"
  },
  "cells": [
    {
      "cell_type": "markdown",
      "metadata": {
        "id": "view-in-github",
        "colab_type": "text"
      },
      "source": [
        "<a href=\"https://colab.research.google.com/github/ShubhamGupta19/CnnBasedAndroidapp_plant_species_detection/blob/master/FinalPlantsModel.ipynb\" target=\"_parent\"><img src=\"https://colab.research.google.com/assets/colab-badge.svg\" alt=\"Open In Colab\"/></a>"
      ]
    },
    {
      "cell_type": "code",
      "metadata": {
        "id": "uJKcLD7iMyuj"
      },
      "source": [
        ""
      ],
      "execution_count": 39,
      "outputs": []
    },
    {
      "cell_type": "code",
      "metadata": {
        "id": "Bg4WNx42P5e9"
      },
      "source": [
        "from tensorflow.keras.callbacks import BaseLogger\r\n",
        "from tensorflow.keras.models import Sequential\r\n",
        "from tensorflow.keras.layers import Dense\r\n",
        "from tensorflow.keras.layers import Activation\r\n",
        "from tensorflow.keras.layers import Conv2D\r\n",
        "from tensorflow.keras.layers import MaxPooling2D\r\n",
        "from tensorflow.keras.layers import AveragePooling2D\r\n",
        "from tensorflow.keras.layers import Dropout\r\n",
        "from tensorflow.keras.layers import Flatten\r\n",
        "from tensorflow.keras.models import Model\r\n",
        "from tensorflow.keras import backend as K\r\n",
        "from tensorflow.keras.layers import BatchNormalization\r\n",
        "from  tensorflow.keras.layers import concatenate\r\n",
        "from tensorflow.keras.layers import add\r\n",
        "from tensorflow.keras.regularizers import l2\r\n",
        "from tensorflow.keras.preprocessing.image import img_to_array\r\n",
        "from tensorflow.keras import Input\r\n",
        "import matplotlib.pyplot as plt\r\n",
        "import numpy as np\r\n",
        "import json\r\n",
        "import os\r\n",
        "import h5py       \r\n",
        "import cv2\r\n",
        "import imutils\r\n",
        "import glob"
      ],
      "execution_count": 40,
      "outputs": []
    },
    {
      "cell_type": "code",
      "metadata": {
        "colab": {
          "base_uri": "https://localhost:8080/"
        },
        "id": "_v6os0KiQDyJ",
        "outputId": "358cb5b3-dd6c-4453-e390-7fc35e38eea7"
      },
      "source": [
        "from google.colab import drive\r\n",
        "drive.mount('/content/drive')"
      ],
      "execution_count": 41,
      "outputs": [
        {
          "output_type": "stream",
          "text": [
            "Drive already mounted at /content/drive; to attempt to forcibly remount, call drive.mount(\"/content/drive\", force_remount=True).\n"
          ],
          "name": "stdout"
        }
      ]
    },
    {
      "cell_type": "code",
      "metadata": {
        "id": "noMiU5DDQG2q"
      },
      "source": [
        "train_dir ='/content/drive/My Drive/PlantsProject/output/train'\r\n",
        "test_dir='/content/drive/My Drive/PlantsProject/output/val'"
      ],
      "execution_count": 42,
      "outputs": []
    },
    {
      "cell_type": "code",
      "metadata": {
        "id": "vRxXYdySQmg3"
      },
      "source": [
        "def get_files(directory):\r\n",
        "  if not os.path.exists(directory):\r\n",
        "    return 0\r\n",
        "  count=0\r\n",
        "  for current_path,dirs,files in os.walk(directory):\r\n",
        "    for dr in dirs:\r\n",
        "      count+= len(glob.glob(os.path.join(current_path,dr+\"/*\")))\r\n",
        "  return count"
      ],
      "execution_count": 43,
      "outputs": []
    },
    {
      "cell_type": "code",
      "metadata": {
        "colab": {
          "base_uri": "https://localhost:8080/"
        },
        "id": "VZnRsI-8Qn_n",
        "outputId": "187c8ab9-dd74-41be-f5c0-a3031f3f262c"
      },
      "source": [
        "\r\n",
        "\r\n",
        "train_samples =get_files(train_dir)\r\n",
        "num_classes=len(glob.glob(train_dir+\"/*\"))\r\n",
        "test_samples=get_files(test_dir)\r\n",
        "print(num_classes,\"Classes\")\r\n",
        "print(train_samples,\"Train images\")\r\n",
        "print(test_samples,\"Test images\")\r\n"
      ],
      "execution_count": 44,
      "outputs": [
        {
          "output_type": "stream",
          "text": [
            "100 Classes\n",
            "1200 Train images\n",
            "400 Test images\n"
          ],
          "name": "stdout"
        }
      ]
    },
    {
      "cell_type": "code",
      "metadata": {
        "id": "8P46Cr4jQptX"
      },
      "source": [
        "train_datagen=ImageDataGenerator(rescale=1./255,\r\n",
        "                                   shear_range=0.2,\r\n",
        "                                   zoom_range=0.2,\r\n",
        "                                   horizontal_flip=True)\r\n",
        "test_datagen=ImageDataGenerator(rescale=1./255)"
      ],
      "execution_count": 45,
      "outputs": []
    },
    {
      "cell_type": "code",
      "metadata": {
        "colab": {
          "base_uri": "https://localhost:8080/"
        },
        "id": "qkX-OraLQ330",
        "outputId": "84e93398-6bc9-42d1-a336-d5df12b215b9"
      },
      "source": [
        "\r\n",
        "# set height and width and color of input image.\r\n",
        "img_width,img_height =256,256\r\n",
        "input_shape=(img_width,img_height,3)\r\n",
        "batch_size =32\r\n",
        "train_generator =train_datagen.flow_from_directory(train_dir,target_size=(img_width,img_height), batch_size=batch_size)\r\n",
        "test_generator=test_datagen.flow_from_directory(test_dir,shuffle=True,target_size=(img_width,img_height),batch_size=batch_size)\r\n"
      ],
      "execution_count": 46,
      "outputs": [
        {
          "output_type": "stream",
          "text": [
            "Found 1200 images belonging to 100 classes.\n",
            "Found 400 images belonging to 100 classes.\n"
          ],
          "name": "stdout"
        }
      ]
    },
    {
      "cell_type": "code",
      "metadata": {
        "colab": {
          "base_uri": "https://localhost:8080/"
        },
        "id": "JeJXA02mRETw",
        "outputId": "ce0487e3-afc0-4a55-b1a2-01969ab2fcd0"
      },
      "source": [
        "train_generator.class_indices"
      ],
      "execution_count": 47,
      "outputs": [
        {
          "output_type": "execute_result",
          "data": {
            "text/plain": [
              "{'Acer_Campestre': 0,\n",
              " 'Acer_Capillipes': 1,\n",
              " 'Acer_Circinatum': 2,\n",
              " 'Acer_Mono': 3,\n",
              " 'Acer_Opalus': 4,\n",
              " 'Acer_Palmatum': 5,\n",
              " 'Acer_Pictum': 6,\n",
              " 'Acer_Platanoids': 7,\n",
              " 'Acer_Rubrum': 8,\n",
              " 'Acer_Rufinerve': 9,\n",
              " 'Acer_Saccharinum': 10,\n",
              " 'Alnus_Cordata': 11,\n",
              " 'Alnus_Maximowiczii': 12,\n",
              " 'Alnus_Rubra': 13,\n",
              " 'Alnus_Sieboldiana': 14,\n",
              " 'Alnus_Viridis': 15,\n",
              " 'Arundinaria_Simonii': 16,\n",
              " 'Betula_Austrosinensis': 17,\n",
              " 'Betula_Pendula': 18,\n",
              " 'Callicarpa_Bodinieri': 19,\n",
              " 'Castanea_Sativa': 20,\n",
              " 'Celtis_Koraiensis': 21,\n",
              " 'Cercis_Siliquastrum': 22,\n",
              " 'Cornus_Chinensis': 23,\n",
              " 'Cornus_Controversa': 24,\n",
              " 'Cornus_Macrophylla': 25,\n",
              " 'Cotinus_Coggygria': 26,\n",
              " 'Crataegus_Monogyna': 27,\n",
              " 'Cytisus_Battandieri': 28,\n",
              " 'Eucalyptus_Glaucescens': 29,\n",
              " 'Eucalyptus_Neglecta': 30,\n",
              " 'Eucalyptus_Urnigera': 31,\n",
              " 'Fagus_Sylvatica': 32,\n",
              " 'Ginkgo_Biloba': 33,\n",
              " 'Ilex_Aquifolium': 34,\n",
              " 'Ilex_Cornuta': 35,\n",
              " 'Liquidambar_Styraciflua': 36,\n",
              " 'Liriodendron_Tulipifera': 37,\n",
              " 'Lithocarpus_Cleistocarpus': 38,\n",
              " 'Lithocarpus_Edulis': 39,\n",
              " 'Magnolia_Heptapeta': 40,\n",
              " 'Magnolia_Salicifolia': 41,\n",
              " 'Morus_Nigra': 42,\n",
              " 'Olea_Europaea': 43,\n",
              " 'Phildelphus': 44,\n",
              " 'Populus_Adenopoda': 45,\n",
              " 'Populus_Grandidentata': 46,\n",
              " 'Populus_Nigra': 47,\n",
              " 'Prunus_Avium': 48,\n",
              " 'Prunus_X_Shmittii': 49,\n",
              " 'Pterocarya_Stenoptera': 50,\n",
              " 'Quercus_Afares': 51,\n",
              " 'Quercus_Agrifolia': 52,\n",
              " 'Quercus_Alnifolia': 53,\n",
              " 'Quercus_Brantii': 54,\n",
              " 'Quercus_Canariensis': 55,\n",
              " 'Quercus_Castaneifolia': 56,\n",
              " 'Quercus_Cerris': 57,\n",
              " 'Quercus_Chrysolepis': 58,\n",
              " 'Quercus_Coccifera': 59,\n",
              " 'Quercus_Coccinea': 60,\n",
              " 'Quercus_Crassifolia': 61,\n",
              " 'Quercus_Crassipes': 62,\n",
              " 'Quercus_Dolicholepis': 63,\n",
              " 'Quercus_Ellipsoidalis': 64,\n",
              " 'Quercus_Greggii': 65,\n",
              " 'Quercus_Hartwissiana': 66,\n",
              " 'Quercus_Ilex': 67,\n",
              " 'Quercus_Imbricaria': 68,\n",
              " 'Quercus_Infectoria_sub': 69,\n",
              " 'Quercus_Kewensis': 70,\n",
              " 'Quercus_Nigra': 71,\n",
              " 'Quercus_Palustris': 72,\n",
              " 'Quercus_Phellos': 73,\n",
              " 'Quercus_Phillyraeoides': 74,\n",
              " 'Quercus_Pontica': 75,\n",
              " 'Quercus_Pubescens': 76,\n",
              " 'Quercus_Pyrenaica': 77,\n",
              " 'Quercus_Rhysophylla': 78,\n",
              " 'Quercus_Rubra': 79,\n",
              " 'Quercus_Semecarpifolia': 80,\n",
              " 'Quercus_Shumardii': 81,\n",
              " 'Quercus_Suber': 82,\n",
              " 'Quercus_Texana': 83,\n",
              " 'Quercus_Trojana': 84,\n",
              " 'Quercus_Variabilis': 85,\n",
              " 'Quercus_Vulcanica': 86,\n",
              " 'Quercus_x_Hispanica': 87,\n",
              " 'Quercus_x_Turneri': 88,\n",
              " 'Rhododendron_x_Russellianum': 89,\n",
              " 'Salix_Fragilis': 90,\n",
              " 'Salix_Intergra': 91,\n",
              " 'Sorbus_Aria': 92,\n",
              " 'Tilia_Oliveri': 93,\n",
              " 'Tilia_Platyphyllos': 94,\n",
              " 'Tilia_Tomentosa': 95,\n",
              " 'Ulmus_Bergmanniana': 96,\n",
              " 'Viburnum_Tinus': 97,\n",
              " 'Viburnum_x_Rhytidophylloides': 98,\n",
              " 'Zelkova_Serrata': 99}"
            ]
          },
          "metadata": {
            "tags": []
          },
          "execution_count": 47
        }
      ]
    },
    {
      "cell_type": "code",
      "metadata": {
        "id": "IDRl1sR5eFyL"
      },
      "source": [
        "class MiniGoogLeNet:\r\n",
        "  @staticmethod\r\n",
        "  def conv_module(x,K,kX,kY,stride,chanDim,padding=\"same\"):\r\n",
        "    x=Conv2D(K,(kX,kY),strides=stride,padding=padding)(x)\r\n",
        "    x=BatchNormalization(axis=chanDim)(x)\r\n",
        "    x=Activation(\"relu\")(x)\r\n",
        "    return x\r\n",
        "\r\n",
        "  @staticmethod\r\n",
        "  def inception_module(x,numK1x1,numK3x3,chanDim):\r\n",
        "    conv_1x1=MiniGoogLeNet.conv_module(x,numK1x1,1,1,(1,1),chanDim)\r\n",
        "    conv_3x3=MiniGoogLeNet.conv_module(x,numK3x3,3,3,(1,1),chanDim)\r\n",
        "    x=concatenate([conv_1x1,conv_3x3],axis=chanDim)\r\n",
        "    return x\r\n",
        "\r\n",
        "  @staticmethod \r\n",
        "  def downsample_module(x,K,chanDim):\r\n",
        "    conv_3x3=MiniGoogLeNet.conv_module(x,K,3,3,(2,2),chanDim,padding=\"valid\")\r\n",
        "    pool=MaxPooling2D((3,3),strides=(2,2))(x)\r\n",
        "    x=concatenate([conv_3x3,pool],axis=chanDim)\r\n",
        "    return x\r\n",
        "  \r\n",
        "  def build(width,height,depth,classes):\r\n",
        "    inputShape=(height,width,depth)\r\n",
        "    chanDim=-1\r\n",
        "    if K.image_data_format()==\"channels_first\":\r\n",
        "      inputShape=(depth,height,width)\r\n",
        "      chanDim= 1\r\n",
        "    inputs=Input(shape=inputShape)\r\n",
        "    x=MiniGoogLeNet.conv_module(inputs,96,3,3,(1,1),chanDim)\r\n",
        "    x=MiniGoogLeNet.inception_module(x,32,32,chanDim)\r\n",
        "    x=MiniGoogLeNet.downsample_module(x,80,chanDim)\r\n",
        "    x=MiniGoogLeNet.inception_module(x,112,48,chanDim)\r\n",
        "    x=MiniGoogLeNet.inception_module(x,96,64,chanDim)\r\n",
        "    x=MiniGoogLeNet.inception_module(x,80,80,chanDim)\r\n",
        "    x=MiniGoogLeNet.inception_module(x,48,96,chanDim)\r\n",
        "    x=MiniGoogLeNet.downsample_module(x,96,chanDim)\r\n",
        "    x=MiniGoogLeNet.inception_module(x,176,160,chanDim)\r\n",
        "    x=MiniGoogLeNet.inception_module(x,176,160,chanDim)\r\n",
        "    x=AveragePooling2D((7,7))(x)\r\n",
        "    x=Dropout(0.5)(x)\r\n",
        "\r\n",
        "    x=Flatten()(x)\r\n",
        "    x=Dense(classes)(x)\r\n",
        "    x=Activation(\"softmax\")(x)\r\n",
        "\r\n",
        "    model=Model(inputs,x,name=\"googlenet\")\r\n",
        "    return model\r\n"
      ],
      "execution_count": 48,
      "outputs": []
    },
    {
      "cell_type": "code",
      "metadata": {
        "colab": {
          "base_uri": "https://localhost:8080/",
          "height": 269
        },
        "id": "M6lv_A2CRHaP",
        "outputId": "b1697351-8ead-4799-fc1d-1267e024525e"
      },
      "source": [
        "\r\n",
        "from keras.preprocessing import image\r\n",
        "import numpy as np\r\n",
        "img1 = image.load_img('/content/drive/My Drive/PlantsProject/output/train/Acer_Campestre/Acer_Campestre_01.ab.jpg')\r\n",
        "plt.imshow(img1);\r\n",
        "#preprocess image\r\n",
        "img1 = image.load_img('/content/drive/My Drive/PlantsProject/output/train/Acer_Campestre/Acer_Campestre_02.ab.jpg', target_size=(256, 256))\r\n",
        "img = image.img_to_array(img1)\r\n",
        "img = img/255\r\n",
        "img = np.expand_dims(img, axis=0)\r\n"
      ],
      "execution_count": 49,
      "outputs": [
        {
          "output_type": "display_data",
          "data": {
            "image/png": "[encoded data removed]",
            "text/plain": [
              "<Figure size 432x288 with 1 Axes>"
            ]
          },
          "metadata": {
            "tags": [],
            "needs_background": "light"
          }
        }
      ]
    },
    {
      "cell_type": "code",
      "metadata": {
        "id": "y_cWVPDze92A"
      },
      "source": [
        "aug=ImageDataGenerator(\r\n",
        "        width_shift_range=0.1,\r\n",
        "        height_shift_range=0.1,\r\n",
        "        horizontal_flip=True,\r\n",
        "        fill_mode=\"nearest\"\r\n",
        "        )"
      ],
      "execution_count": null,
      "outputs": []
    },
    {
      "cell_type": "code",
      "metadata": {
        "id": "ZPm9z4uoeTSp"
      },
      "source": [
        "NUM_EPOCHS=70\r\n",
        "INIT_LR=5e-3"
      ],
      "execution_count": 50,
      "outputs": []
    },
    {
      "cell_type": "code",
      "metadata": {
        "colab": {
          "base_uri": "https://localhost:8080/"
        },
        "id": "DZyG0wJgU4-r",
        "outputId": "ee9846c9-e026-4748-e4c7-803b6db40253"
      },
      "source": [
        "print(\"[INFO] Compiling model\")\r\n",
        "opt=SGD(lr=INIT_LR,momentum=0.9)\r\n",
        "model=MiniGoogLeNet.build(width=256,height=256,depth=3,classes=num_classes)\r\n",
        "model.compile(loss=\"categorical_crossentropy\",optimizer=opt,metrics=['accuracy'])\r\n"
      ],
      "execution_count": 39,
      "outputs": [
        {
          "output_type": "stream",
          "text": [
            "[INFO] Compiling model\n"
          ],
          "name": "stdout"
        }
      ]
    },
    {
      "cell_type": "code",
      "metadata": {
        "colab": {
          "base_uri": "https://localhost:8080/"
        },
        "id": "lCH88Me02PBM",
        "outputId": "888f5e53-2059-4bd8-8fd2-632a01aacd37"
      },
      "source": [
        "model.summary()"
      ],
      "execution_count": 56,
      "outputs": [
        {
          "output_type": "stream",
          "text": [
            "Model: \"googlenet\"\n",
            "__________________________________________________________________________________________________\n",
            "Layer (type)                    Output Shape         Param #     Connected to                     \n",
            "==================================================================================================\n",
            "input_2 (InputLayer)            [(None, 256, 256, 3) 0                                            \n",
            "__________________________________________________________________________________________________\n",
            "conv2d (Conv2D)                 (None, 256, 256, 96) 2688        input_2[0][0]                    \n",
            "__________________________________________________________________________________________________\n",
            "batch_normalization (BatchNorma (None, 256, 256, 96) 384         conv2d[0][0]                     \n",
            "__________________________________________________________________________________________________\n",
            "activation (Activation)         (None, 256, 256, 96) 0           batch_normalization[0][0]        \n",
            "__________________________________________________________________________________________________\n",
            "conv2d_1 (Conv2D)               (None, 256, 256, 32) 3104        activation[0][0]                 \n",
            "__________________________________________________________________________________________________\n",
            "conv2d_2 (Conv2D)               (None, 256, 256, 32) 27680       activation[0][0]                 \n",
            "__________________________________________________________________________________________________\n",
            "batch_normalization_1 (BatchNor (None, 256, 256, 32) 128         conv2d_1[0][0]                   \n",
            "__________________________________________________________________________________________________\n",
            "batch_normalization_2 (BatchNor (None, 256, 256, 32) 128         conv2d_2[0][0]                   \n",
            "__________________________________________________________________________________________________\n",
            "activation_1 (Activation)       (None, 256, 256, 32) 0           batch_normalization_1[0][0]      \n",
            "__________________________________________________________________________________________________\n",
            "activation_2 (Activation)       (None, 256, 256, 32) 0           batch_normalization_2[0][0]      \n",
            "__________________________________________________________________________________________________\n",
            "concatenate (Concatenate)       (None, 256, 256, 64) 0           activation_1[0][0]               \n",
            "                                                                 activation_2[0][0]               \n",
            "__________________________________________________________________________________________________\n",
            "conv2d_3 (Conv2D)               (None, 127, 127, 80) 46160       concatenate[0][0]                \n",
            "__________________________________________________________________________________________________\n",
            "batch_normalization_3 (BatchNor (None, 127, 127, 80) 320         conv2d_3[0][0]                   \n",
            "__________________________________________________________________________________________________\n",
            "activation_3 (Activation)       (None, 127, 127, 80) 0           batch_normalization_3[0][0]      \n",
            "__________________________________________________________________________________________________\n",
            "max_pooling2d (MaxPooling2D)    (None, 127, 127, 64) 0           concatenate[0][0]                \n",
            "__________________________________________________________________________________________________\n",
            "concatenate_1 (Concatenate)     (None, 127, 127, 144 0           activation_3[0][0]               \n",
            "                                                                 max_pooling2d[0][0]              \n",
            "__________________________________________________________________________________________________\n",
            "conv2d_4 (Conv2D)               (None, 127, 127, 112 16240       concatenate_1[0][0]              \n",
            "__________________________________________________________________________________________________\n",
            "conv2d_5 (Conv2D)               (None, 127, 127, 48) 62256       concatenate_1[0][0]              \n",
            "__________________________________________________________________________________________________\n",
            "batch_normalization_4 (BatchNor (None, 127, 127, 112 448         conv2d_4[0][0]                   \n",
            "__________________________________________________________________________________________________\n",
            "batch_normalization_5 (BatchNor (None, 127, 127, 48) 192         conv2d_5[0][0]                   \n",
            "__________________________________________________________________________________________________\n",
            "activation_4 (Activation)       (None, 127, 127, 112 0           batch_normalization_4[0][0]      \n",
            "__________________________________________________________________________________________________\n",
            "activation_5 (Activation)       (None, 127, 127, 48) 0           batch_normalization_5[0][0]      \n",
            "__________________________________________________________________________________________________\n",
            "concatenate_2 (Concatenate)     (None, 127, 127, 160 0           activation_4[0][0]               \n",
            "                                                                 activation_5[0][0]               \n",
            "__________________________________________________________________________________________________\n",
            "conv2d_6 (Conv2D)               (None, 127, 127, 96) 15456       concatenate_2[0][0]              \n",
            "__________________________________________________________________________________________________\n",
            "conv2d_7 (Conv2D)               (None, 127, 127, 64) 92224       concatenate_2[0][0]              \n",
            "__________________________________________________________________________________________________\n",
            "batch_normalization_6 (BatchNor (None, 127, 127, 96) 384         conv2d_6[0][0]                   \n",
            "__________________________________________________________________________________________________\n",
            "batch_normalization_7 (BatchNor (None, 127, 127, 64) 256         conv2d_7[0][0]                   \n",
            "__________________________________________________________________________________________________\n",
            "activation_6 (Activation)       (None, 127, 127, 96) 0           batch_normalization_6[0][0]      \n",
            "__________________________________________________________________________________________________\n",
            "activation_7 (Activation)       (None, 127, 127, 64) 0           batch_normalization_7[0][0]      \n",
            "__________________________________________________________________________________________________\n",
            "concatenate_3 (Concatenate)     (None, 127, 127, 160 0           activation_6[0][0]               \n",
            "                                                                 activation_7[0][0]               \n",
            "__________________________________________________________________________________________________\n",
            "conv2d_8 (Conv2D)               (None, 127, 127, 80) 12880       concatenate_3[0][0]              \n",
            "__________________________________________________________________________________________________\n",
            "conv2d_9 (Conv2D)               (None, 127, 127, 80) 115280      concatenate_3[0][0]              \n",
            "__________________________________________________________________________________________________\n",
            "batch_normalization_8 (BatchNor (None, 127, 127, 80) 320         conv2d_8[0][0]                   \n",
            "__________________________________________________________________________________________________\n",
            "batch_normalization_9 (BatchNor (None, 127, 127, 80) 320         conv2d_9[0][0]                   \n",
            "__________________________________________________________________________________________________\n",
            "activation_8 (Activation)       (None, 127, 127, 80) 0           batch_normalization_8[0][0]      \n",
            "__________________________________________________________________________________________________\n",
            "activation_9 (Activation)       (None, 127, 127, 80) 0           batch_normalization_9[0][0]      \n",
            "__________________________________________________________________________________________________\n",
            "concatenate_4 (Concatenate)     (None, 127, 127, 160 0           activation_8[0][0]               \n",
            "                                                                 activation_9[0][0]               \n",
            "__________________________________________________________________________________________________\n",
            "conv2d_10 (Conv2D)              (None, 127, 127, 48) 7728        concatenate_4[0][0]              \n",
            "__________________________________________________________________________________________________\n",
            "conv2d_11 (Conv2D)              (None, 127, 127, 96) 138336      concatenate_4[0][0]              \n",
            "__________________________________________________________________________________________________\n",
            "batch_normalization_10 (BatchNo (None, 127, 127, 48) 192         conv2d_10[0][0]                  \n",
            "__________________________________________________________________________________________________\n",
            "batch_normalization_11 (BatchNo (None, 127, 127, 96) 384         conv2d_11[0][0]                  \n",
            "__________________________________________________________________________________________________\n",
            "activation_10 (Activation)      (None, 127, 127, 48) 0           batch_normalization_10[0][0]     \n",
            "__________________________________________________________________________________________________\n",
            "activation_11 (Activation)      (None, 127, 127, 96) 0           batch_normalization_11[0][0]     \n",
            "__________________________________________________________________________________________________\n",
            "concatenate_5 (Concatenate)     (None, 127, 127, 144 0           activation_10[0][0]              \n",
            "                                                                 activation_11[0][0]              \n",
            "__________________________________________________________________________________________________\n",
            "conv2d_12 (Conv2D)              (None, 63, 63, 96)   124512      concatenate_5[0][0]              \n",
            "__________________________________________________________________________________________________\n",
            "batch_normalization_12 (BatchNo (None, 63, 63, 96)   384         conv2d_12[0][0]                  \n",
            "__________________________________________________________________________________________________\n",
            "activation_12 (Activation)      (None, 63, 63, 96)   0           batch_normalization_12[0][0]     \n",
            "__________________________________________________________________________________________________\n",
            "max_pooling2d_1 (MaxPooling2D)  (None, 63, 63, 144)  0           concatenate_5[0][0]              \n",
            "__________________________________________________________________________________________________\n",
            "concatenate_6 (Concatenate)     (None, 63, 63, 240)  0           activation_12[0][0]              \n",
            "                                                                 max_pooling2d_1[0][0]            \n",
            "__________________________________________________________________________________________________\n",
            "conv2d_13 (Conv2D)              (None, 63, 63, 176)  42416       concatenate_6[0][0]              \n",
            "__________________________________________________________________________________________________\n",
            "conv2d_14 (Conv2D)              (None, 63, 63, 160)  345760      concatenate_6[0][0]              \n",
            "__________________________________________________________________________________________________\n",
            "batch_normalization_13 (BatchNo (None, 63, 63, 176)  704         conv2d_13[0][0]                  \n",
            "__________________________________________________________________________________________________\n",
            "batch_normalization_14 (BatchNo (None, 63, 63, 160)  640         conv2d_14[0][0]                  \n",
            "__________________________________________________________________________________________________\n",
            "activation_13 (Activation)      (None, 63, 63, 176)  0           batch_normalization_13[0][0]     \n",
            "__________________________________________________________________________________________________\n",
            "activation_14 (Activation)      (None, 63, 63, 160)  0           batch_normalization_14[0][0]     \n",
            "__________________________________________________________________________________________________\n",
            "concatenate_7 (Concatenate)     (None, 63, 63, 336)  0           activation_13[0][0]              \n",
            "                                                                 activation_14[0][0]              \n",
            "__________________________________________________________________________________________________\n",
            "conv2d_15 (Conv2D)              (None, 63, 63, 176)  59312       concatenate_7[0][0]              \n",
            "__________________________________________________________________________________________________\n",
            "conv2d_16 (Conv2D)              (None, 63, 63, 160)  484000      concatenate_7[0][0]              \n",
            "__________________________________________________________________________________________________\n",
            "batch_normalization_15 (BatchNo (None, 63, 63, 176)  704         conv2d_15[0][0]                  \n",
            "__________________________________________________________________________________________________\n",
            "batch_normalization_16 (BatchNo (None, 63, 63, 160)  640         conv2d_16[0][0]                  \n",
            "__________________________________________________________________________________________________\n",
            "activation_15 (Activation)      (None, 63, 63, 176)  0           batch_normalization_15[0][0]     \n",
            "__________________________________________________________________________________________________\n",
            "activation_16 (Activation)      (None, 63, 63, 160)  0           batch_normalization_16[0][0]     \n",
            "__________________________________________________________________________________________________\n",
            "concatenate_8 (Concatenate)     (None, 63, 63, 336)  0           activation_15[0][0]              \n",
            "                                                                 activation_16[0][0]              \n",
            "__________________________________________________________________________________________________\n",
            "average_pooling2d (AveragePooli (None, 9, 9, 336)    0           concatenate_8[0][0]              \n",
            "__________________________________________________________________________________________________\n",
            "dropout (Dropout)               (None, 9, 9, 336)    0           average_pooling2d[0][0]          \n",
            "__________________________________________________________________________________________________\n",
            "flatten (Flatten)               (None, 27216)        0           dropout[0][0]                    \n",
            "__________________________________________________________________________________________________\n",
            "dense (Dense)                   (None, 100)          2721700     flatten[0][0]                    \n",
            "__________________________________________________________________________________________________\n",
            "activation_17 (Activation)      (None, 100)          0           dense[0][0]                      \n",
            "==================================================================================================\n",
            "Total params: 4,324,260\n",
            "Trainable params: 4,320,996\n",
            "Non-trainable params: 3,264\n",
            "__________________________________________________________________________________________________\n"
          ],
          "name": "stdout"
        }
      ]
    },
    {
      "cell_type": "code",
      "metadata": {
        "id": "uw_mao8wc__A"
      },
      "source": [
        "model.fit(aug.flow(trainX,trainY,batch_size=64), validation_data=(testX,testY),steps_per_epoch=len(trainX)//64, epochs=NUM_EPOCHS,callbacks=callbacks,verbose=1)"
      ],
      "execution_count": 39,
      "outputs": []
    },
    {
      "cell_type": "code",
      "metadata": {
        "colab": {
          "base_uri": "https://localhost:8080/"
        },
        "id": "owhpDXzJfnvp",
        "outputId": "929c3bba-917d-41a8-8b76-6faf87868fd8"
      },
      "source": [
        "train=model.fit_generator(train_generator,epochs=100,steps_per_epoch=train_generator.samples//batch_size,validation_data=test_generator,validation_steps=test_generator.samples // batch_size,verbose=1)"
      ],
      "execution_count": 54,
      "outputs": [
        {
          "output_type": "stream",
          "text": [
            "Epoch 1/100\n",
            "37/37 [==============================] - 367s 10s/step - loss: 5.0708 - accuracy: 0.0354 - val_loss: 4.6053 - val_accuracy: 0.0260\n",
            "Epoch 2/100\n",
            "37/37 [==============================] - 43s 1s/step - loss: 4.1325 - accuracy: 0.1446 - val_loss: 4.6769 - val_accuracy: 0.0208\n",
            "Epoch 3/100\n",
            "37/37 [==============================] - 43s 1s/step - loss: 3.3774 - accuracy: 0.2249 - val_loss: 4.6656 - val_accuracy: 0.0260\n",
            "Epoch 4/100\n",
            "37/37 [==============================] - 43s 1s/step - loss: 2.7572 - accuracy: 0.3262 - val_loss: 4.4632 - val_accuracy: 0.0234\n",
            "Epoch 5/100\n",
            "37/37 [==============================] - 43s 1s/step - loss: 2.5954 - accuracy: 0.3733 - val_loss: 4.0596 - val_accuracy: 0.0677\n",
            "Epoch 6/100\n",
            "37/37 [==============================] - 43s 1s/step - loss: 2.3392 - accuracy: 0.4373 - val_loss: 4.1230 - val_accuracy: 0.0521\n",
            "Epoch 7/100\n",
            "37/37 [==============================] - 43s 1s/step - loss: 2.1504 - accuracy: 0.4664 - val_loss: 3.3865 - val_accuracy: 0.2083\n",
            "Epoch 8/100\n",
            "37/37 [==============================] - 43s 1s/step - loss: 1.9528 - accuracy: 0.4939 - val_loss: 3.1748 - val_accuracy: 0.2552\n",
            "Epoch 9/100\n",
            "37/37 [==============================] - 43s 1s/step - loss: 1.6912 - accuracy: 0.5535 - val_loss: 2.9657 - val_accuracy: 0.3047\n",
            "Epoch 10/100\n",
            "37/37 [==============================] - 43s 1s/step - loss: 1.6750 - accuracy: 0.5400 - val_loss: 2.2055 - val_accuracy: 0.4297\n",
            "Epoch 11/100\n",
            "37/37 [==============================] - 43s 1s/step - loss: 1.7270 - accuracy: 0.5444 - val_loss: 1.7591 - val_accuracy: 0.5078\n",
            "Epoch 12/100\n",
            "37/37 [==============================] - 43s 1s/step - loss: 1.3873 - accuracy: 0.6138 - val_loss: 1.6120 - val_accuracy: 0.5443\n",
            "Epoch 13/100\n",
            "37/37 [==============================] - 43s 1s/step - loss: 1.3651 - accuracy: 0.6242 - val_loss: 1.3642 - val_accuracy: 0.5938\n",
            "Epoch 14/100\n",
            "37/37 [==============================] - 43s 1s/step - loss: 1.2792 - accuracy: 0.6576 - val_loss: 1.4159 - val_accuracy: 0.6016\n",
            "Epoch 15/100\n",
            "37/37 [==============================] - 43s 1s/step - loss: 1.3354 - accuracy: 0.6430 - val_loss: 2.1346 - val_accuracy: 0.4583\n",
            "Epoch 16/100\n",
            "37/37 [==============================] - 43s 1s/step - loss: 1.1548 - accuracy: 0.6923 - val_loss: 1.4430 - val_accuracy: 0.5599\n",
            "Epoch 17/100\n",
            "37/37 [==============================] - 43s 1s/step - loss: 1.1203 - accuracy: 0.6860 - val_loss: 1.6820 - val_accuracy: 0.5443\n",
            "Epoch 18/100\n",
            "37/37 [==============================] - 43s 1s/step - loss: 1.1213 - accuracy: 0.6885 - val_loss: 1.3506 - val_accuracy: 0.6120\n",
            "Epoch 19/100\n",
            "37/37 [==============================] - 43s 1s/step - loss: 1.0385 - accuracy: 0.6899 - val_loss: 1.1513 - val_accuracy: 0.6536\n",
            "Epoch 20/100\n",
            "37/37 [==============================] - 43s 1s/step - loss: 0.9900 - accuracy: 0.7056 - val_loss: 1.1525 - val_accuracy: 0.6745\n",
            "Epoch 21/100\n",
            "37/37 [==============================] - 43s 1s/step - loss: 1.1170 - accuracy: 0.6775 - val_loss: 4.2813 - val_accuracy: 0.3073\n",
            "Epoch 22/100\n",
            "37/37 [==============================] - 43s 1s/step - loss: 0.8755 - accuracy: 0.7426 - val_loss: 1.0733 - val_accuracy: 0.6745\n",
            "Epoch 23/100\n",
            "37/37 [==============================] - 43s 1s/step - loss: 0.9373 - accuracy: 0.7141 - val_loss: 1.1670 - val_accuracy: 0.6380\n",
            "Epoch 24/100\n",
            "37/37 [==============================] - 43s 1s/step - loss: 0.8995 - accuracy: 0.7409 - val_loss: 1.2004 - val_accuracy: 0.6406\n",
            "Epoch 25/100\n",
            "37/37 [==============================] - 43s 1s/step - loss: 0.8595 - accuracy: 0.7553 - val_loss: 1.2864 - val_accuracy: 0.6484\n",
            "Epoch 26/100\n",
            "37/37 [==============================] - 43s 1s/step - loss: 0.8576 - accuracy: 0.7406 - val_loss: 1.0463 - val_accuracy: 0.7188\n",
            "Epoch 27/100\n",
            "37/37 [==============================] - 43s 1s/step - loss: 0.7328 - accuracy: 0.7966 - val_loss: 8.1223 - val_accuracy: 0.1823\n",
            "Epoch 28/100\n",
            "37/37 [==============================] - 43s 1s/step - loss: 0.7193 - accuracy: 0.7762 - val_loss: 3.8279 - val_accuracy: 0.3542\n",
            "Epoch 29/100\n",
            "37/37 [==============================] - 43s 1s/step - loss: 0.7598 - accuracy: 0.7784 - val_loss: 1.4159 - val_accuracy: 0.6094\n",
            "Epoch 30/100\n",
            "37/37 [==============================] - 43s 1s/step - loss: 0.6855 - accuracy: 0.8053 - val_loss: 1.0768 - val_accuracy: 0.6953\n",
            "Epoch 31/100\n",
            "37/37 [==============================] - 43s 1s/step - loss: 0.6646 - accuracy: 0.8252 - val_loss: 1.1113 - val_accuracy: 0.7031\n",
            "Epoch 32/100\n",
            "37/37 [==============================] - 43s 1s/step - loss: 0.6631 - accuracy: 0.8073 - val_loss: 0.9846 - val_accuracy: 0.7188\n",
            "Epoch 33/100\n",
            "37/37 [==============================] - 43s 1s/step - loss: 0.6579 - accuracy: 0.7998 - val_loss: 1.0806 - val_accuracy: 0.6901\n",
            "Epoch 34/100\n",
            "37/37 [==============================] - 43s 1s/step - loss: 0.6161 - accuracy: 0.8112 - val_loss: 1.1455 - val_accuracy: 0.6719\n",
            "Epoch 35/100\n",
            "37/37 [==============================] - 43s 1s/step - loss: 0.6505 - accuracy: 0.7934 - val_loss: 0.9710 - val_accuracy: 0.6771\n",
            "Epoch 36/100\n",
            "37/37 [==============================] - 43s 1s/step - loss: 0.5807 - accuracy: 0.8283 - val_loss: 5.2460 - val_accuracy: 0.3021\n",
            "Epoch 37/100\n",
            "37/37 [==============================] - 43s 1s/step - loss: 0.5367 - accuracy: 0.8331 - val_loss: 1.0951 - val_accuracy: 0.6875\n",
            "Epoch 38/100\n",
            "37/37 [==============================] - 43s 1s/step - loss: 0.6377 - accuracy: 0.8265 - val_loss: 1.2089 - val_accuracy: 0.6536\n",
            "Epoch 39/100\n",
            "37/37 [==============================] - 43s 1s/step - loss: 0.5964 - accuracy: 0.8254 - val_loss: 0.9345 - val_accuracy: 0.7109\n",
            "Epoch 40/100\n",
            "37/37 [==============================] - 43s 1s/step - loss: 0.5384 - accuracy: 0.8390 - val_loss: 0.8717 - val_accuracy: 0.7396\n",
            "Epoch 41/100\n",
            "37/37 [==============================] - 43s 1s/step - loss: 0.5502 - accuracy: 0.8509 - val_loss: 0.8087 - val_accuracy: 0.7917\n",
            "Epoch 42/100\n",
            "37/37 [==============================] - 44s 1s/step - loss: 0.5222 - accuracy: 0.8382 - val_loss: 0.9516 - val_accuracy: 0.7083\n",
            "Epoch 43/100\n",
            "37/37 [==============================] - 43s 1s/step - loss: 0.4232 - accuracy: 0.8872 - val_loss: 0.9195 - val_accuracy: 0.7396\n",
            "Epoch 44/100\n",
            "37/37 [==============================] - 43s 1s/step - loss: 0.4925 - accuracy: 0.8379 - val_loss: 0.8860 - val_accuracy: 0.7344\n",
            "Epoch 45/100\n",
            "37/37 [==============================] - 43s 1s/step - loss: 0.4452 - accuracy: 0.8668 - val_loss: 1.0504 - val_accuracy: 0.7005\n",
            "Epoch 46/100\n",
            "37/37 [==============================] - 43s 1s/step - loss: 0.4738 - accuracy: 0.8754 - val_loss: 0.7091 - val_accuracy: 0.7891\n",
            "Epoch 47/100\n",
            "37/37 [==============================] - 43s 1s/step - loss: 0.4465 - accuracy: 0.8810 - val_loss: 1.0213 - val_accuracy: 0.6667\n",
            "Epoch 48/100\n",
            "37/37 [==============================] - 43s 1s/step - loss: 0.4583 - accuracy: 0.8553 - val_loss: 0.7709 - val_accuracy: 0.7734\n",
            "Epoch 49/100\n",
            "37/37 [==============================] - 43s 1s/step - loss: 0.4572 - accuracy: 0.8576 - val_loss: 1.3029 - val_accuracy: 0.6875\n",
            "Epoch 50/100\n",
            "37/37 [==============================] - 43s 1s/step - loss: 0.3456 - accuracy: 0.9002 - val_loss: 0.7263 - val_accuracy: 0.7839\n",
            "Epoch 51/100\n",
            "37/37 [==============================] - 43s 1s/step - loss: 0.4175 - accuracy: 0.8873 - val_loss: 2.9429 - val_accuracy: 0.4479\n",
            "Epoch 52/100\n",
            "37/37 [==============================] - 43s 1s/step - loss: 0.4675 - accuracy: 0.8590 - val_loss: 0.8940 - val_accuracy: 0.7656\n",
            "Epoch 53/100\n",
            "37/37 [==============================] - 43s 1s/step - loss: 0.4376 - accuracy: 0.8562 - val_loss: 0.8428 - val_accuracy: 0.7552\n",
            "Epoch 54/100\n",
            "37/37 [==============================] - 43s 1s/step - loss: 0.4265 - accuracy: 0.8830 - val_loss: 0.8657 - val_accuracy: 0.7656\n",
            "Epoch 55/100\n",
            "37/37 [==============================] - 43s 1s/step - loss: 0.3550 - accuracy: 0.8956 - val_loss: 1.4651 - val_accuracy: 0.6328\n",
            "Epoch 56/100\n",
            "37/37 [==============================] - 43s 1s/step - loss: 0.3544 - accuracy: 0.8855 - val_loss: 1.0432 - val_accuracy: 0.7266\n",
            "Epoch 57/100\n",
            "37/37 [==============================] - 43s 1s/step - loss: 0.4117 - accuracy: 0.8763 - val_loss: 0.8839 - val_accuracy: 0.7552\n",
            "Epoch 58/100\n",
            "37/37 [==============================] - 43s 1s/step - loss: 0.4080 - accuracy: 0.8672 - val_loss: 1.0672 - val_accuracy: 0.7135\n",
            "Epoch 59/100\n",
            "37/37 [==============================] - 43s 1s/step - loss: 0.3570 - accuracy: 0.8931 - val_loss: 0.7146 - val_accuracy: 0.7891\n",
            "Epoch 60/100\n",
            "37/37 [==============================] - 43s 1s/step - loss: 0.3274 - accuracy: 0.8978 - val_loss: 0.9861 - val_accuracy: 0.7474\n",
            "Epoch 61/100\n",
            "37/37 [==============================] - 43s 1s/step - loss: 0.3612 - accuracy: 0.8923 - val_loss: 1.0737 - val_accuracy: 0.7135\n",
            "Epoch 62/100\n",
            "37/37 [==============================] - 43s 1s/step - loss: 0.3615 - accuracy: 0.8879 - val_loss: 0.7763 - val_accuracy: 0.7786\n",
            "Epoch 63/100\n",
            "37/37 [==============================] - 43s 1s/step - loss: 0.2701 - accuracy: 0.9174 - val_loss: 0.8686 - val_accuracy: 0.7656\n",
            "Epoch 64/100\n",
            "37/37 [==============================] - 43s 1s/step - loss: 0.2744 - accuracy: 0.9168 - val_loss: 0.8419 - val_accuracy: 0.7734\n",
            "Epoch 65/100\n",
            "37/37 [==============================] - 43s 1s/step - loss: 0.2870 - accuracy: 0.9145 - val_loss: 4.2956 - val_accuracy: 0.3724\n",
            "Epoch 66/100\n",
            "37/37 [==============================] - 43s 1s/step - loss: 0.3386 - accuracy: 0.8951 - val_loss: 0.7935 - val_accuracy: 0.7656\n",
            "Epoch 67/100\n",
            "37/37 [==============================] - 43s 1s/step - loss: 0.3008 - accuracy: 0.9061 - val_loss: 0.8193 - val_accuracy: 0.7760\n",
            "Epoch 68/100\n",
            "37/37 [==============================] - 43s 1s/step - loss: 0.2464 - accuracy: 0.9287 - val_loss: 0.9704 - val_accuracy: 0.7214\n",
            "Epoch 69/100\n",
            "37/37 [==============================] - 43s 1s/step - loss: 0.2477 - accuracy: 0.9249 - val_loss: 3.1372 - val_accuracy: 0.4792\n",
            "Epoch 70/100\n",
            "37/37 [==============================] - 43s 1s/step - loss: 0.2455 - accuracy: 0.9178 - val_loss: 0.6967 - val_accuracy: 0.8047\n",
            "Epoch 71/100\n",
            "37/37 [==============================] - 43s 1s/step - loss: 0.2717 - accuracy: 0.9155 - val_loss: 0.8067 - val_accuracy: 0.7734\n",
            "Epoch 72/100\n",
            "37/37 [==============================] - 43s 1s/step - loss: 0.2839 - accuracy: 0.9231 - val_loss: 1.0178 - val_accuracy: 0.7214\n",
            "Epoch 73/100\n",
            "37/37 [==============================] - 43s 1s/step - loss: 0.2587 - accuracy: 0.9183 - val_loss: 0.6624 - val_accuracy: 0.8099\n",
            "Epoch 74/100\n",
            "37/37 [==============================] - 43s 1s/step - loss: 0.3869 - accuracy: 0.8830 - val_loss: 2.5990 - val_accuracy: 0.5443\n",
            "Epoch 75/100\n",
            "37/37 [==============================] - 43s 1s/step - loss: 0.3122 - accuracy: 0.9039 - val_loss: 1.0807 - val_accuracy: 0.7292\n",
            "Epoch 76/100\n",
            "37/37 [==============================] - 43s 1s/step - loss: 0.2851 - accuracy: 0.9128 - val_loss: 0.9507 - val_accuracy: 0.7370\n",
            "Epoch 77/100\n",
            "37/37 [==============================] - 44s 1s/step - loss: 0.2198 - accuracy: 0.9293 - val_loss: 1.0668 - val_accuracy: 0.7240\n",
            "Epoch 78/100\n",
            "37/37 [==============================] - 43s 1s/step - loss: 0.2607 - accuracy: 0.9197 - val_loss: 1.4573 - val_accuracy: 0.6250\n",
            "Epoch 79/100\n",
            "37/37 [==============================] - 43s 1s/step - loss: 0.2426 - accuracy: 0.9246 - val_loss: 1.2514 - val_accuracy: 0.6979\n",
            "Epoch 80/100\n",
            "37/37 [==============================] - 43s 1s/step - loss: 0.1915 - accuracy: 0.9423 - val_loss: 1.1993 - val_accuracy: 0.7188\n",
            "Epoch 81/100\n",
            "37/37 [==============================] - 43s 1s/step - loss: 0.2428 - accuracy: 0.9315 - val_loss: 1.9073 - val_accuracy: 0.6094\n",
            "Epoch 82/100\n",
            "37/37 [==============================] - 43s 1s/step - loss: 0.2514 - accuracy: 0.9276 - val_loss: 0.6557 - val_accuracy: 0.8151\n",
            "Epoch 83/100\n",
            "37/37 [==============================] - 43s 1s/step - loss: 0.2337 - accuracy: 0.9345 - val_loss: 1.0373 - val_accuracy: 0.7109\n",
            "Epoch 84/100\n",
            "37/37 [==============================] - 43s 1s/step - loss: 0.2808 - accuracy: 0.9135 - val_loss: 0.6939 - val_accuracy: 0.8073\n",
            "Epoch 85/100\n",
            "37/37 [==============================] - 43s 1s/step - loss: 0.2455 - accuracy: 0.9249 - val_loss: 2.6147 - val_accuracy: 0.4948\n",
            "Epoch 86/100\n",
            "37/37 [==============================] - 43s 1s/step - loss: 0.2084 - accuracy: 0.9333 - val_loss: 0.6811 - val_accuracy: 0.8177\n",
            "Epoch 87/100\n",
            "37/37 [==============================] - 43s 1s/step - loss: 0.2306 - accuracy: 0.9273 - val_loss: 0.7341 - val_accuracy: 0.8229\n",
            "Epoch 88/100\n",
            "37/37 [==============================] - 43s 1s/step - loss: 0.2331 - accuracy: 0.9331 - val_loss: 0.7722 - val_accuracy: 0.7708\n",
            "Epoch 89/100\n",
            "37/37 [==============================] - 43s 1s/step - loss: 0.2764 - accuracy: 0.9070 - val_loss: 7.1288 - val_accuracy: 0.2604\n",
            "Epoch 90/100\n",
            "37/37 [==============================] - 43s 1s/step - loss: 0.2108 - accuracy: 0.9395 - val_loss: 0.6688 - val_accuracy: 0.8333\n",
            "Epoch 91/100\n",
            "37/37 [==============================] - 43s 1s/step - loss: 0.1626 - accuracy: 0.9493 - val_loss: 0.8102 - val_accuracy: 0.7839\n",
            "Epoch 92/100\n",
            "37/37 [==============================] - 43s 1s/step - loss: 0.1421 - accuracy: 0.9506 - val_loss: 0.8298 - val_accuracy: 0.7891\n",
            "Epoch 93/100\n",
            "37/37 [==============================] - 43s 1s/step - loss: 0.1741 - accuracy: 0.9472 - val_loss: 0.6203 - val_accuracy: 0.8359\n",
            "Epoch 94/100\n",
            "37/37 [==============================] - 43s 1s/step - loss: 0.2108 - accuracy: 0.9318 - val_loss: 1.3407 - val_accuracy: 0.6875\n",
            "Epoch 95/100\n",
            "37/37 [==============================] - 43s 1s/step - loss: 0.2376 - accuracy: 0.9181 - val_loss: 1.3564 - val_accuracy: 0.6797\n",
            "Epoch 96/100\n",
            "37/37 [==============================] - 43s 1s/step - loss: 0.2255 - accuracy: 0.9256 - val_loss: 0.7983 - val_accuracy: 0.7943\n",
            "Epoch 97/100\n",
            "37/37 [==============================] - 43s 1s/step - loss: 0.2492 - accuracy: 0.9239 - val_loss: 0.8314 - val_accuracy: 0.7630\n",
            "Epoch 98/100\n",
            "37/37 [==============================] - 43s 1s/step - loss: 0.1888 - accuracy: 0.9462 - val_loss: 0.6539 - val_accuracy: 0.8281\n",
            "Epoch 99/100\n",
            "37/37 [==============================] - 43s 1s/step - loss: 0.1713 - accuracy: 0.9451 - val_loss: 0.8754 - val_accuracy: 0.7708\n",
            "Epoch 100/100\n",
            "37/37 [==============================] - 43s 1s/step - loss: 0.1631 - accuracy: 0.9502 - val_loss: 1.8984 - val_accuracy: 0.6172\n"
          ],
          "name": "stdout"
        }
      ]
    },
    {
      "cell_type": "code",
      "metadata": {
        "colab": {
          "base_uri": "https://localhost:8080/"
        },
        "id": "BF24pFZuoL7Q",
        "outputId": "f4e5cb78-41da-4185-8e7a-bbb5a1a7ebf9"
      },
      "source": [
        "print(\"[INFO] Serializing Network\")\r\n",
        "model.save(r\"/content/drive/My Drive/minigooglenet_plants.h5\")"
      ],
      "execution_count": 55,
      "outputs": [
        {
          "output_type": "stream",
          "text": [
            "[INFO] Serializing Network\n"
          ],
          "name": "stdout"
        }
      ]
    }
  ]
}